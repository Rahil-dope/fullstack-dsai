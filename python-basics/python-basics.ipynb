{
 "cells": [
  {
   "cell_type": "markdown",
   "id": "2cf36dbd",
   "metadata": {},
   "source": [
    "# python basics\n",
    "## LESSON 1 — Python basics (learn & practice now)\n",
    "### LESSON 1 — Homework (push to GitHub)\n",
    "---\n"
   ]
  },
  {
   "cell_type": "markdown",
   "id": "c360f55c",
   "metadata": {},
   "source": [
    "- Exercise 1: create three variables (int, float, string), print a formatted sentence using f-strings."
   ]
  },
  {
   "cell_type": "code",
   "execution_count": 7,
   "id": "cb118c8d",
   "metadata": {},
   "outputs": [
    {
     "name": "stdout",
     "output_type": "stream",
     "text": [
      "10\n",
      "1.62\n",
      "HEllo\n",
      "my age is 10, my size is 1.62 and my name is HEllo\n"
     ]
    }
   ],
   "source": [
    "a = 10;\n",
    "b = 1.62;\n",
    "c = \"HEllo\"\n",
    "\n",
    "print(a)\n",
    "print(b)\n",
    "print(c)\n",
    "F_S = f\"my age is {a}, my size is {b} and my name is {c}\"\n",
    "print(F_S)"
   ]
  },
  {
   "cell_type": "markdown",
   "id": "7e33f9b0",
   "metadata": {},
   "source": [
    "- Exercise 2: make a list of 5 numbers, compute its sum and average (use sum() and len())."
   ]
  },
  {
   "cell_type": "code",
   "execution_count": 9,
   "id": "3515a2db",
   "metadata": {},
   "outputs": [
    {
     "name": "stdout",
     "output_type": "stream",
     "text": [
      "Total: 15\n",
      "Average: 3.0\n"
     ]
    }
   ],
   "source": [
    "list_of_numbers = [1, 2, 3, 4, 5]\n",
    "total = sum(list_of_numbers)\n",
    "average = total / len(list_of_numbers)\n",
    "print(\"Total:\", total)\n",
    "print(\"Average:\", average)  "
   ]
  },
  {
   "cell_type": "markdown",
   "id": "eccd4d8b",
   "metadata": {},
   "source": [
    "- Exercise 3: write a function that takes a list of numbers and returns a list of only odd numbers."
   ]
  },
  {
   "cell_type": "code",
   "execution_count": 10,
   "id": "259e0a4b",
   "metadata": {},
   "outputs": [
    {
     "name": "stdout",
     "output_type": "stream",
     "text": [
      "1\n",
      "3\n",
      "5\n",
      "7\n",
      "9\n"
     ]
    }
   ],
   "source": [
    "list_of_numbers = [1,2,3,4,5,6,7,8,9,10]\n",
    "for number in list_of_numbers:\n",
    "    if number % 2 != 0:\n",
    "        print(number)\n"
   ]
  },
  {
   "cell_type": "markdown",
   "id": "a506a7e9",
   "metadata": {},
   "source": [
    "- Exercise 4: write a function mean(values) that returns average. Test with [1,2,3,4]."
   ]
  },
  {
   "cell_type": "code",
   "execution_count": 13,
   "id": "fc98db6c",
   "metadata": {},
   "outputs": [
    {
     "data": {
      "text/plain": [
       "2.5"
      ]
     },
     "execution_count": 13,
     "metadata": {},
     "output_type": "execute_result"
    }
   ],
   "source": [
    "def mean(values):\n",
    "    return sum(values) / len(values)\n",
    "value = [1,2,3,4]\n",
    "mean(value)"
   ]
  },
  {
   "cell_type": "markdown",
   "id": "cbec63d3",
   "metadata": {},
   "source": [
    "- Exercise 5: save list of names to names.txt and read them back, printing each name."
   ]
  },
  {
   "cell_type": "code",
   "execution_count": 14,
   "id": "0907eb52",
   "metadata": {},
   "outputs": [
    {
     "name": "stdout",
     "output_type": "stream",
     "text": [
      "Names from the file:\n",
      "Alice\n",
      "Bob\n",
      "Charlie\n",
      "Diana\n",
      "Ethan\n"
     ]
    }
   ],
   "source": [
    "names = [\"Alice\", \"Bob\", \"Charlie\", \"Diana\", \"Ethan\"]\n",
    "\n",
    "with open(\"names.txt\", \"w\") as file:\n",
    "    for name in names:\n",
    "        file.write(name + \"\\n\")\n",
    "\n",
    "print(\"Names from the file:\")\n",
    "with open(\"names.txt\", \"r\") as file:\n",
    "    for line in file:\n",
    "        print(line.strip())  # .strip() removes any extra whitespace or newline characters"
   ]
  }
 ],
 "metadata": {
  "kernelspec": {
   "display_name": ".venv",
   "language": "python",
   "name": "python3"
  },
  "language_info": {
   "codemirror_mode": {
    "name": "ipython",
    "version": 3
   },
   "file_extension": ".py",
   "mimetype": "text/x-python",
   "name": "python",
   "nbconvert_exporter": "python",
   "pygments_lexer": "ipython3",
   "version": "3.13.7"
  }
 },
 "nbformat": 4,
 "nbformat_minor": 5
}
