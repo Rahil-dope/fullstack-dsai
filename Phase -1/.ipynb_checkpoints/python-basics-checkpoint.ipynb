{
 "cells": [
  {
   "cell_type": "markdown",
   "id": "9476dd24-21af-4851-96e1-65d9dc042a37",
   "metadata": {},
   "source": [
    "# Exercise 1: create three variables (int, float, string), print a formatted sentence using f-strings."
   ]
  },
  {
   "cell_type": "code",
   "execution_count": null,
   "id": "8b98c698-9fdc-4f78-81f4-0796c2250a0d",
   "metadata": {},
   "outputs": [],
   "source": []
  }
 ],
 "metadata": {
  "kernelspec": {
   "display_name": "Python 3 (ipykernel)",
   "language": "python",
   "name": "python3"
  },
  "language_info": {
   "codemirror_mode": {
    "name": "ipython",
    "version": 3
   },
   "file_extension": ".py",
   "mimetype": "text/x-python",
   "name": "python",
   "nbconvert_exporter": "python",
   "pygments_lexer": "ipython3",
   "version": "3.12.5"
  }
 },
 "nbformat": 4,
 "nbformat_minor": 5
}
