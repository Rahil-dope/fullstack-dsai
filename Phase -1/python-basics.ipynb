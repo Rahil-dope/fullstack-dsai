{
 "cells": [
  {
   "cell_type": "markdown",
   "id": "2cf36dbd",
   "metadata": {},
   "source": [
    "# python basics\n",
    "## LESSON 1 — Python basics (learn & practice now)\n",
    "### LESSON 1 — Homework (push to GitHub)\n",
    "---\n",
    "- Create phase-1/python-basics.ipynb or python-basics/ folder.\n",
    "- Put solutions to Exercises 1–5 there.\n",
    "- Commit & push. Make at least 3 commits while doing it (init + mid-work + final).\n",
    "- In README, add one line: “Phase-1: Python basics — done” and short note on what you practiced."
   ]
  }
 ],
 "metadata": {
  "kernelspec": {
   "display_name": ".venv",
   "language": "python",
   "name": "python3"
  },
  "language_info": {
   "codemirror_mode": {
    "name": "ipython",
    "version": 3
   },
   "file_extension": ".py",
   "mimetype": "text/x-python",
   "name": "python",
   "nbconvert_exporter": "python",
   "pygments_lexer": "ipython3",
   "version": "3.13.7"
  }
 },
 "nbformat": 4,
 "nbformat_minor": 5
}
